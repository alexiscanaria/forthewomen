{
 "cells": [
  {
   "cell_type": "code",
   "execution_count": 1,
   "metadata": {},
   "outputs": [],
   "source": [
    "import re\n",
    "from collections import defaultdict"
   ]
  },
  {
   "cell_type": "code",
   "execution_count": 2,
   "metadata": {},
   "outputs": [],
   "source": [
    "def count_words(string):\n",
    "    # this function cleans the string first, removing non alphabetical characters except whitespace\n",
    "    # also assumes that parameter string is a valid string\n",
    "    \n",
    "    string = re.sub('[^A-Za-z\\s]', '', string)\n",
    "    word_list = string.split()\n",
    "    \n",
    "    dictionary = defaultdict(int)\n",
    "    for word in word_list:\n",
    "        dictionary[word] += 1\n",
    "        \n",
    "    return dict(dictionary)\n",
    "\n",
    "def format_dictionary(dic):\n",
    "    for k, v in dic.items():\n",
    "        print('{key}, {value}'.format(key=k, value=v))"
   ]
  },
  {
   "cell_type": "code",
   "execution_count": 3,
   "metadata": {},
   "outputs": [
    {
     "name": "stdout",
     "output_type": "stream",
     "text": [
      "hey, 2\n",
      "yo, 2\n",
      "awesome, 1\n"
     ]
    }
   ],
   "source": [
    "string = 'hey hey yo yo awesome'\n",
    "count_dict = count_words(string)\n",
    "format_dictionary(count_dict)"
   ]
  }
 ],
 "metadata": {
  "kernelspec": {
   "display_name": "Python 3",
   "language": "python",
   "name": "python3"
  },
  "language_info": {
   "codemirror_mode": {
    "name": "ipython",
    "version": 3
   },
   "file_extension": ".py",
   "mimetype": "text/x-python",
   "name": "python",
   "nbconvert_exporter": "python",
   "pygments_lexer": "ipython3",
   "version": "3.7.4"
  }
 },
 "nbformat": 4,
 "nbformat_minor": 2
}
